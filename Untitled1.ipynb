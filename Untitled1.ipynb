{
 "cells": [
  {
   "cell_type": "code",
   "execution_count": 1,
   "id": "573dc5b0",
   "metadata": {},
   "outputs": [],
   "source": [
    "import numpy as np"
   ]
  },
  {
   "cell_type": "code",
   "execution_count": 2,
   "id": "e89591db",
   "metadata": {},
   "outputs": [],
   "source": [
    "arr=np.array([10,20,30,40,50])"
   ]
  },
  {
   "cell_type": "code",
   "execution_count": 11,
   "id": "39ce5c42",
   "metadata": {},
   "outputs": [
    {
     "data": {
      "text/plain": [
       "array([10, 20, 30, 40, 50])"
      ]
     },
     "execution_count": 11,
     "metadata": {},
     "output_type": "execute_result"
    }
   ],
   "source": [
    "arr"
   ]
  },
  {
   "cell_type": "code",
   "execution_count": 10,
   "id": "5b92e339",
   "metadata": {},
   "outputs": [
    {
     "data": {
      "text/plain": [
       "dtype('int32')"
      ]
     },
     "execution_count": 10,
     "metadata": {},
     "output_type": "execute_result"
    }
   ],
   "source": [
    "arr.dtype"
   ]
  },
  {
   "cell_type": "code",
   "execution_count": 6,
   "id": "f9c63142",
   "metadata": {},
   "outputs": [
    {
     "data": {
      "text/plain": [
       "5"
      ]
     },
     "execution_count": 6,
     "metadata": {},
     "output_type": "execute_result"
    }
   ],
   "source": [
    "np.size(arr)"
   ]
  },
  {
   "cell_type": "code",
   "execution_count": 7,
   "id": "d17b4018",
   "metadata": {},
   "outputs": [
    {
     "data": {
      "text/plain": [
       "(5,)"
      ]
     },
     "execution_count": 7,
     "metadata": {},
     "output_type": "execute_result"
    }
   ],
   "source": [
    "np.shape(arr)"
   ]
  },
  {
   "cell_type": "code",
   "execution_count": 8,
   "id": "6268e451",
   "metadata": {},
   "outputs": [
    {
     "data": {
      "text/plain": [
       "1"
      ]
     },
     "execution_count": 8,
     "metadata": {},
     "output_type": "execute_result"
    }
   ],
   "source": [
    "np.ndim(arr)"
   ]
  },
  {
   "cell_type": "code",
   "execution_count": 12,
   "id": "744b6a03",
   "metadata": {},
   "outputs": [],
   "source": [
    "arr1=np.array([[2,4,6,8,10],[1,3,5,7,9]])"
   ]
  },
  {
   "cell_type": "code",
   "execution_count": 13,
   "id": "5643dd05",
   "metadata": {},
   "outputs": [
    {
     "data": {
      "text/plain": [
       "array([[ 2,  4,  6,  8, 10],\n",
       "       [ 1,  3,  5,  7,  9]])"
      ]
     },
     "execution_count": 13,
     "metadata": {},
     "output_type": "execute_result"
    }
   ],
   "source": [
    "arr1"
   ]
  },
  {
   "cell_type": "code",
   "execution_count": 15,
   "id": "7f0d9a35",
   "metadata": {},
   "outputs": [
    {
     "data": {
      "text/plain": [
       "(2, 5)"
      ]
     },
     "execution_count": 15,
     "metadata": {},
     "output_type": "execute_result"
    }
   ],
   "source": [
    "np.shape(arr1)"
   ]
  },
  {
   "cell_type": "code",
   "execution_count": 20,
   "id": "c74eb6c6",
   "metadata": {},
   "outputs": [
    {
     "data": {
      "text/plain": [
       "array([[ 2,  4],\n",
       "       [ 6,  8],\n",
       "       [10,  1],\n",
       "       [ 3,  5],\n",
       "       [ 7,  9]])"
      ]
     },
     "execution_count": 20,
     "metadata": {},
     "output_type": "execute_result"
    }
   ],
   "source": [
    "arr1.reshape(5,2)"
   ]
  },
  {
   "cell_type": "code",
   "execution_count": null,
   "id": "ddb129b2",
   "metadata": {},
   "outputs": [],
   "source": [
    "#part2"
   ]
  },
  {
   "cell_type": "code",
   "execution_count": 21,
   "id": "a0a4a446",
   "metadata": {},
   "outputs": [],
   "source": [
    "#creating a 3D array\n",
    "ar=np.array([[[1,2,3,4,5],[6,7,8,9,10]],[[11,12,13,14,15],[16,17,18,19,20]]])"
   ]
  },
  {
   "cell_type": "code",
   "execution_count": 22,
   "id": "e88d9ace",
   "metadata": {},
   "outputs": [
    {
     "data": {
      "text/plain": [
       "array([[[ 1,  2,  3,  4,  5],\n",
       "        [ 6,  7,  8,  9, 10]],\n",
       "\n",
       "       [[11, 12, 13, 14, 15],\n",
       "        [16, 17, 18, 19, 20]]])"
      ]
     },
     "execution_count": 22,
     "metadata": {},
     "output_type": "execute_result"
    }
   ],
   "source": [
    "ar"
   ]
  },
  {
   "cell_type": "code",
   "execution_count": 23,
   "id": "87b42f62",
   "metadata": {},
   "outputs": [
    {
     "data": {
      "text/plain": [
       "9"
      ]
     },
     "execution_count": 23,
     "metadata": {},
     "output_type": "execute_result"
    }
   ],
   "source": [
    "#indexing\n",
    "ar[0,1,3]"
   ]
  },
  {
   "cell_type": "code",
   "execution_count": 28,
   "id": "0cd784ca",
   "metadata": {},
   "outputs": [
    {
     "data": {
      "text/plain": [
       "20"
      ]
     },
     "execution_count": 28,
     "metadata": {},
     "output_type": "execute_result"
    }
   ],
   "source": [
    "ar[1,1,4]"
   ]
  },
  {
   "cell_type": "code",
   "execution_count": 33,
   "id": "709eef30",
   "metadata": {},
   "outputs": [
    {
     "data": {
      "text/plain": [
       "array([ 9, 19])"
      ]
     },
     "execution_count": 33,
     "metadata": {},
     "output_type": "execute_result"
    }
   ],
   "source": [
    "#Slicing\n",
    "ar[0:2,1,3]"
   ]
  },
  {
   "cell_type": "code",
   "execution_count": 34,
   "id": "88d61dc6",
   "metadata": {},
   "outputs": [
    {
     "data": {
      "text/plain": [
       "array([[13, 14],\n",
       "       [18, 19]])"
      ]
     },
     "execution_count": 34,
     "metadata": {},
     "output_type": "execute_result"
    }
   ],
   "source": [
    "ar[1,0:2,2:4]"
   ]
  },
  {
   "cell_type": "code",
   "execution_count": 35,
   "id": "52120ff6",
   "metadata": {},
   "outputs": [
    {
     "data": {
      "text/plain": [
       "array([[[ 2,  3,  4],\n",
       "        [ 7,  8,  9]],\n",
       "\n",
       "       [[12, 13, 14],\n",
       "        [17, 18, 19]]])"
      ]
     },
     "execution_count": 35,
     "metadata": {},
     "output_type": "execute_result"
    }
   ],
   "source": [
    "ar[0:2,0:2,1:4]"
   ]
  },
  {
   "cell_type": "code",
   "execution_count": 36,
   "id": "ceee2d1e",
   "metadata": {},
   "outputs": [
    {
     "name": "stdout",
     "output_type": "stream",
     "text": [
      "[[[False  True False  True False]\n",
      "  [ True False  True False  True]]\n",
      "\n",
      " [[False  True False  True False]\n",
      "  [ True False  True False  True]]]\n"
     ]
    }
   ],
   "source": [
    "#Boolean\n",
    "print(ar%2==0)"
   ]
  },
  {
   "cell_type": "code",
   "execution_count": 40,
   "id": "5804363a",
   "metadata": {},
   "outputs": [
    {
     "data": {
      "text/plain": [
       "array([ True,  True,  True,  True,  True, False])"
      ]
     },
     "execution_count": 40,
     "metadata": {},
     "output_type": "execute_result"
    }
   ],
   "source": [
    "arr2=np.array([1,2,3.3,-1,'dog',''],dtype=bool)\n",
    "arr2"
   ]
  },
  {
   "cell_type": "code",
   "execution_count": 41,
   "id": "93e62421",
   "metadata": {},
   "outputs": [],
   "source": [
    "#part3"
   ]
  },
  {
   "cell_type": "code",
   "execution_count": 45,
   "id": "35118dc7",
   "metadata": {},
   "outputs": [
    {
     "data": {
      "text/plain": [
       "array([10., 11.,  3., 45.,  6.,  7.])"
      ]
     },
     "execution_count": 45,
     "metadata": {},
     "output_type": "execute_result"
    }
   ],
   "source": [
    "#dtype:float\n",
    "ar1=np.array([10,11,3,45,6,7],dtype='float')\n",
    "ar1"
   ]
  },
  {
   "cell_type": "code",
   "execution_count": 46,
   "id": "5ed90a0c",
   "metadata": {},
   "outputs": [
    {
     "data": {
      "text/plain": [
       "62"
      ]
     },
     "execution_count": 46,
     "metadata": {},
     "output_type": "execute_result"
    }
   ],
   "source": [
    "#Generating Random values\n",
    "np.random.randint(100)"
   ]
  },
  {
   "cell_type": "code",
   "execution_count": 47,
   "id": "1c973081",
   "metadata": {},
   "outputs": [
    {
     "data": {
      "text/plain": [
       "array([2062, 2036, 2112, 2019, 2499])"
      ]
     },
     "execution_count": 47,
     "metadata": {},
     "output_type": "execute_result"
    }
   ],
   "source": [
    "np.random.randint(2000,2500,5)"
   ]
  },
  {
   "cell_type": "code",
   "execution_count": 61,
   "id": "9a068117",
   "metadata": {},
   "outputs": [
    {
     "name": "stdout",
     "output_type": "stream",
     "text": [
      "Array before Flattening:\n",
      " [[33 38 86 56 28]\n",
      " [14 51 34 58 55]\n",
      " [ 5 19 95 93 63]\n",
      " [35 31 58 94 75]\n",
      " [ 2 94  7 78  6]]\n"
     ]
    }
   ],
   "source": [
    "ar2=np.random.randint(1,100,size=(5,5))\n",
    "print(\"Array before Flattening:\\n\",ar2)"
   ]
  },
  {
   "cell_type": "code",
   "execution_count": 62,
   "id": "c791f3e4",
   "metadata": {},
   "outputs": [
    {
     "name": "stdout",
     "output_type": "stream",
     "text": [
      "Array after Flattening:\n",
      " [33 38 86 56 28 14 51 34 58 55  5 19 95 93 63 35 31 58 94 75  2 94  7 78\n",
      "  6]\n"
     ]
    }
   ],
   "source": [
    "print(\"Array after Flattening:\\n\",ar2.flatten())"
   ]
  },
  {
   "cell_type": "code",
   "execution_count": 53,
   "id": "fa4cf4f2",
   "metadata": {},
   "outputs": [
    {
     "data": {
      "text/plain": [
       "array([1., 2., 3., 4., 5.])"
      ]
     },
     "execution_count": 53,
     "metadata": {},
     "output_type": "execute_result"
    }
   ],
   "source": [
    "#tuple to array\n",
    "tup1=(1,2,3,4,5)\n",
    "ar3=np.array(tup1,dtype='float')\n",
    "ar3"
   ]
  },
  {
   "cell_type": "code",
   "execution_count": 72,
   "id": "2cadf77f",
   "metadata": {},
   "outputs": [
    {
     "data": {
      "text/plain": [
       "array([10, 11, 12, 13, 14, 15, 16, 17, 18, 19, 20, 21, 22, 23, 24, 25])"
      ]
     },
     "execution_count": 72,
     "metadata": {},
     "output_type": "execute_result"
    }
   ],
   "source": [
    "#sequence of array\n",
    "ar4=np.array(range(10,26))\n",
    "ar4"
   ]
  },
  {
   "cell_type": "code",
   "execution_count": 73,
   "id": "367d1034",
   "metadata": {},
   "outputs": [
    {
     "data": {
      "text/plain": [
       "array([10, 12, 14, 16, 18, 20, 22, 24])"
      ]
     },
     "execution_count": 73,
     "metadata": {},
     "output_type": "execute_result"
    }
   ],
   "source": [
    "ar4[::2]"
   ]
  },
  {
   "cell_type": "code",
   "execution_count": null,
   "id": "10075ede",
   "metadata": {},
   "outputs": [],
   "source": []
  }
 ],
 "metadata": {
  "kernelspec": {
   "display_name": "Python 3 (ipykernel)",
   "language": "python",
   "name": "python3"
  },
  "language_info": {
   "codemirror_mode": {
    "name": "ipython",
    "version": 3
   },
   "file_extension": ".py",
   "mimetype": "text/x-python",
   "name": "python",
   "nbconvert_exporter": "python",
   "pygments_lexer": "ipython3",
   "version": "3.9.7"
  }
 },
 "nbformat": 4,
 "nbformat_minor": 5
}
